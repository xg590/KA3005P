{
 "cells": [
  {
   "cell_type": "code",
   "execution_count": 1,
   "id": "282fa48d",
   "metadata": {},
   "outputs": [],
   "source": [
    "#pip install pyserial\n",
    "import serial, time\n",
    "class KA3005P():\n",
    "    def __init__(self): \n",
    "        self.serial = serial.Serial(port = '/dev/ttyACM0', \n",
    "                   baudrate = 9600, \n",
    "                   parity   = serial.PARITY_NONE,\n",
    "                   bytesize = serial.EIGHTBITS, \n",
    "                   stopbits = serial.STOPBITS_ONE, \n",
    "                   xonxoff=False, rtscts=False, dsrdtr=False )\n",
    "        self.delay = 0.05 # You need to give UART comm a rest\n",
    "        self.STATUS()\n",
    "        return None\n",
    "        \n",
    "    @property\n",
    "    def dI(self):\n",
    "        time.sleep(self.delay)\n",
    "        self.serial.write(b'ISET1?') \n",
    "        return float(self.serial.read(5).decode('utf8'))\n",
    "\n",
    "    @dI.setter\n",
    "    def dI(self, value):\n",
    "        time.sleep(self.delay)\n",
    "        if value < 5.1 and value > 0: \n",
    "            self.serial.write(f'ISET1:{value:.3f}'.encode('utf8'))\n",
    "            print(f'Desired current was set to be {value:.3f}A') \n",
    "        else:\n",
    "            print('Input a current value in (0A, 5.1A)')\n",
    "        return None\n",
    "        \n",
    "    @property\n",
    "    def dV(self):  \n",
    "        time.sleep(self.delay)\n",
    "        self.serial.write(b'VSET1?') \n",
    "        return float(self.serial.read(5).decode('utf8'))\n",
    "\n",
    "    @dV.setter\n",
    "    def dV(self, value):\n",
    "        time.sleep(self.delay)\n",
    "        if value < 31 and value > 0: \n",
    "            self.serial.write(f'VSET1:{value:.2f}'.encode('utf8'))   \n",
    "            print(f'Desired voltage was set to be {value:.2f}V')\n",
    "        else:\n",
    "            print('Input a voltage value in (0A, 31A)')\n",
    "        return None\n",
    "    \n",
    "    @property    \n",
    "    def rI(self):\n",
    "        time.sleep(self.delay)\n",
    "        self.serial.write(b'IOUT1?') \n",
    "        return float(self.serial.read(5).decode('utf8'))\n",
    "    \n",
    "    @property\n",
    "    def rV(self):\n",
    "        time.sleep(self.delay)\n",
    "        self.serial.write(b'VOUT1?')\n",
    "        return float(self.serial.read(5).decode('utf8')) \n",
    "    \n",
    "    @property\n",
    "    def BEEP(self):\n",
    "        time.sleep(self.delay)\n",
    "        self.serial.write(b'STATUS?')\n",
    "        stat = self.serial.read(1)  \n",
    "        return {0:'OFF', 1:'ON'}[ord(stat) >> 4 & 0b1]\n",
    "        \n",
    "    @BEEP.setter\n",
    "    def BEEP(self, value):\n",
    "        time.sleep(self.delay)\n",
    "        if value == 'ON':\n",
    "            self.serial.write(b'BEEP1')  \n",
    "        elif value == 'OFF':\n",
    "            self.serial.write(b'BEEP0')  \n",
    "        else:\n",
    "            print(\"You either use 'ON' to enable the Buzzer or 'OFF' to disable it\")\n",
    "        return None\n",
    "    \n",
    "    @property\n",
    "    def OUT(self): \n",
    "        time.sleep(self.delay)\n",
    "        self.serial.write(b'STATUS?')\n",
    "        stat = self.serial.read(1)\n",
    "        return {0:'OFF', 1:'ON'}[ord(stat) >> 6 & 0b1]\n",
    "\n",
    "    @OUT.setter\n",
    "    def OUT(self, value):\n",
    "        time.sleep(self.delay)\n",
    "        if value == 'ON':\n",
    "            self.serial.write(b'OUT1')\n",
    "        elif value == 'OFF':\n",
    "            self.serial.write(b'OUT0')  \n",
    "        else:\n",
    "            print(\"You either use 'ON' to enable the power supply or 'OFF' to disable it\")\n",
    "        return None\n",
    "    \n",
    "    def STATUS(self): \n",
    "        time.sleep(self.delay)\n",
    "        self.serial.write(b'STATUS?')\n",
    "        stat = self.serial.read(1)\n",
    "        print( ', '.join(v[ord(stat) >> b & 0b1] for b, v in {\n",
    "            0 : {0:'Constant current mode', 1:'Constant voltage mode'},\n",
    "            4 : {0:'BEEP.OFF' , 1:'BEEP.ON' },\n",
    "            5 : {0:'OCP.OFF'  , 1:'OCP.ON'  }, # Overcurrent Protection\n",
    "            6 : {0:'OUT.OFF'  , 1:'OUT.ON'  },\n",
    "            7 : {0:'OVP.OFF'  , 1:'OVP.ON'  }  # Overvoltage Protection\n",
    "        }.items()) )\n",
    "        return None\n",
    "    \n",
    "    @property\n",
    "    def MODE(self): \n",
    "        time.sleep(self.delay)\n",
    "        self.serial.write(b'STATUS?')\n",
    "        stat = self.serial.read(1)  \n",
    "        return {0:'Constant current mode', 1:'Constant voltage mode'}[ord(stat) >> 0 & 0b1]\n",
    "        \n",
    "    @property\n",
    "    def IDN(self):\n",
    "        time.sleep(self.delay)\n",
    "        self.serial.write(b'*IDN?') \n",
    "        return self.serial.read(30).decode('utf8')\n",
    "     \n",
    "    @property\n",
    "    def RCL(self):\n",
    "        return None\n",
    "    \n",
    "    @RCL.setter\n",
    "    def RCL(self, value):\n",
    "        time.sleep(self.delay)\n",
    "        if value < 6 and value > 0: \n",
    "            self.serial.write(f'RCL{value:d}'.encode('utf8'))   \n",
    "            print(f'Settings stored in M{value:d} was loaded')\n",
    "        else:\n",
    "            print('Choose a memory slot value in [1, 5]')\n",
    "        return None\n",
    "    \n",
    "    @property\n",
    "    def SAV(self):\n",
    "        return None\n",
    "    \n",
    "    @SAV.setter\n",
    "    def SAV(self, value):\n",
    "        time.sleep(self.delay)\n",
    "        if value < 6 and value > 0: \n",
    "            self.serial.write(f'SAV{value:d}'.encode('utf8'))  \n",
    "            print(f'Current settings was stored in M{value:d}')\n",
    "        else:\n",
    "            print('Choose a memory slot value in [1, 5]')\n",
    "        return None\n",
    "\n",
    "    @property\n",
    "    def OCP(self):\n",
    "        time.sleep(self.delay)\n",
    "        self.serial.write(b'STATUS?')\n",
    "        stat = self.serial.read(1)\n",
    "        return {0:'OFF', 1:'ON'}[ord(stat) >> 5 & 0b1] \n",
    "    \n",
    "    @OCP.setter\n",
    "    def OCP(self, value):\n",
    "        time.sleep(self.delay)\n",
    "        if value == 'ON':\n",
    "            self.serial.write(b'OCP1')  \n",
    "        elif value == 'OFF':\n",
    "            self.serial.write(b'OCP0')  \n",
    "        else:\n",
    "            print(\"You either use 'ON' to enable the Overcurrent Protection or 'OFF' to disable it\")\n",
    "        return None\n",
    "    \n",
    "    @property\n",
    "    def OVP(self):\n",
    "        time.sleep(self.delay)\n",
    "        self.serial.write(b'STATUS?')\n",
    "        stat = self.serial.read(1)  \n",
    "        return {0:'OFF', 1:'ON'}[ord(stat) >> 7 & 0b1]\n",
    "        \n",
    "    @OVP.setter\n",
    "    def OVP(self, value):\n",
    "        time.sleep(self.delay)\n",
    "        if value == 'ON':\n",
    "            self.serial.write(b'OVP1')  \n",
    "        elif value == 'OFF':\n",
    "            self.serial.write(b'OVP0')  \n",
    "        else:\n",
    "            print(\"You either use 'ON' to enable the Overvoltage Protection or 'OFF' to disable it\")\n",
    "        return None\n",
    "    \n",
    "    @property\n",
    "    def LOCK(self):\n",
    "        return None\n",
    "    \n",
    "    @LOCK.setter\n",
    "    def LOCK(self, value): \n",
    "        time.sleep(self.delay)\n",
    "        if value == 'ON':\n",
    "            self.serial.write(b'LOCK1')  \n",
    "        elif value == 'OFF':\n",
    "            self.serial.write(b'LOCK0')  \n",
    "        else:\n",
    "            print(\"You either use 'ON' to enable the lock or 'OFF' to disable it\")\n",
    "        return None \n",
    "    \n",
    "    def close(self):\n",
    "        self.serial.close()"
   ]
  },
  {
   "cell_type": "code",
   "execution_count": 2,
   "id": "e7367af6",
   "metadata": {},
   "outputs": [
    {
     "name": "stdout",
     "output_type": "stream",
     "text": [
      "Constant current mode, BEEP.ON, OCP.ON, OUT.OFF, OVP.ON\n"
     ]
    }
   ],
   "source": [
    "ka = KA3005P()"
   ]
  },
  {
   "cell_type": "markdown",
   "id": "bf309815",
   "metadata": {},
   "source": [
    "### Give KA3005P a initial settings"
   ]
  },
  {
   "cell_type": "code",
   "execution_count": 4,
   "id": "3db43fbd",
   "metadata": {},
   "outputs": [
    {
     "name": "stdout",
     "output_type": "stream",
     "text": [
      "Desired current was set to be 2.300A\n",
      "Desired voltage was set to be 1.30V\n"
     ]
    }
   ],
   "source": [
    "ka.dI, ka.dV = 2.3, 1.3 "
   ]
  },
  {
   "cell_type": "markdown",
   "id": "b4bd4578",
   "metadata": {},
   "source": [
    "### See the initial settings"
   ]
  },
  {
   "cell_type": "code",
   "execution_count": 5,
   "id": "277e5101",
   "metadata": {},
   "outputs": [
    {
     "data": {
      "text/plain": [
       "(2.3, 1.3)"
      ]
     },
     "execution_count": 5,
     "metadata": {},
     "output_type": "execute_result"
    }
   ],
   "source": [
    "ka.dI, ka.dV"
   ]
  },
  {
   "cell_type": "markdown",
   "id": "d49d29b2",
   "metadata": {},
   "source": [
    "### Change the settings"
   ]
  },
  {
   "cell_type": "code",
   "execution_count": 6,
   "id": "f01533ba",
   "metadata": {},
   "outputs": [
    {
     "name": "stdout",
     "output_type": "stream",
     "text": [
      "Desired current was set to be 4.300A\n",
      "Desired voltage was set to be 4.30V\n"
     ]
    }
   ],
   "source": [
    "ka.dI, ka.dV = 4.3, 4.3 "
   ]
  },
  {
   "cell_type": "markdown",
   "id": "f613070f",
   "metadata": {},
   "source": [
    "### See the new settings"
   ]
  },
  {
   "cell_type": "code",
   "execution_count": 7,
   "id": "0d8e77a1",
   "metadata": {},
   "outputs": [
    {
     "data": {
      "text/plain": [
       "(4.3, 4.3)"
      ]
     },
     "execution_count": 7,
     "metadata": {},
     "output_type": "execute_result"
    }
   ],
   "source": [
    "ka.dI, ka.dV"
   ]
  },
  {
   "cell_type": "markdown",
   "id": "ec43a175",
   "metadata": {},
   "source": [
    "### See if the output is enabled"
   ]
  },
  {
   "cell_type": "code",
   "execution_count": 8,
   "id": "e78ea73b",
   "metadata": {
    "scrolled": true
   },
   "outputs": [
    {
     "data": {
      "text/plain": [
       "'OFF'"
      ]
     },
     "execution_count": 8,
     "metadata": {},
     "output_type": "execute_result"
    }
   ],
   "source": [
    "ka.OUT "
   ]
  },
  {
   "cell_type": "markdown",
   "id": "b8154c52",
   "metadata": {},
   "source": [
    "### Enable the Output"
   ]
  },
  {
   "cell_type": "code",
   "execution_count": 9,
   "id": "115bc25c",
   "metadata": {},
   "outputs": [],
   "source": [
    "ka.OUT = 'ON'"
   ]
  },
  {
   "cell_type": "code",
   "execution_count": null,
   "id": "074af1f3",
   "metadata": {},
   "outputs": [],
   "source": [
    "ka.OUT = 'OFF'"
   ]
  },
  {
   "cell_type": "markdown",
   "id": "d3ecce58",
   "metadata": {},
   "source": [
    "### See if the output is enabled"
   ]
  },
  {
   "cell_type": "code",
   "execution_count": 10,
   "id": "a954df1b",
   "metadata": {},
   "outputs": [
    {
     "data": {
      "text/plain": [
       "'ON'"
      ]
     },
     "execution_count": 10,
     "metadata": {},
     "output_type": "execute_result"
    }
   ],
   "source": [
    "ka.OUT "
   ]
  },
  {
   "cell_type": "markdown",
   "id": "18034015",
   "metadata": {},
   "source": [
    "### See the real output value"
   ]
  },
  {
   "cell_type": "code",
   "execution_count": 11,
   "id": "617f25db",
   "metadata": {},
   "outputs": [
    {
     "data": {
      "text/plain": [
       "(0.0, 4.3)"
      ]
     },
     "execution_count": 11,
     "metadata": {},
     "output_type": "execute_result"
    }
   ],
   "source": [
    "ka.rI, ka.rV  "
   ]
  },
  {
   "cell_type": "markdown",
   "id": "2aecee5f",
   "metadata": {},
   "source": [
    "### Check Buzzer"
   ]
  },
  {
   "cell_type": "code",
   "execution_count": 12,
   "id": "b60513f7",
   "metadata": {},
   "outputs": [
    {
     "data": {
      "text/plain": [
       "'ON'"
      ]
     },
     "execution_count": 12,
     "metadata": {},
     "output_type": "execute_result"
    }
   ],
   "source": [
    "ka.BEEP"
   ]
  },
  {
   "cell_type": "markdown",
   "id": "3e61b473",
   "metadata": {},
   "source": [
    "### Disable Buzzer"
   ]
  },
  {
   "cell_type": "code",
   "execution_count": 13,
   "id": "ab5f348f",
   "metadata": {},
   "outputs": [],
   "source": [
    "ka.BEEP = 'OFF'"
   ]
  },
  {
   "cell_type": "markdown",
   "id": "b35aab95",
   "metadata": {},
   "source": [
    "### See the change"
   ]
  },
  {
   "cell_type": "code",
   "execution_count": 14,
   "id": "885d6aa0",
   "metadata": {},
   "outputs": [
    {
     "data": {
      "text/plain": [
       "'OFF'"
      ]
     },
     "execution_count": 14,
     "metadata": {},
     "output_type": "execute_result"
    }
   ],
   "source": [
    "ka.BEEP"
   ]
  },
  {
   "cell_type": "markdown",
   "id": "45c0c3d6",
   "metadata": {},
   "source": [
    "### See the info of the machine"
   ]
  },
  {
   "cell_type": "code",
   "execution_count": 15,
   "id": "e4036f71",
   "metadata": {},
   "outputs": [
    {
     "data": {
      "text/plain": [
       "'KORAD KA3005P V5.8 SN:03384597'"
      ]
     },
     "execution_count": 15,
     "metadata": {},
     "output_type": "execute_result"
    }
   ],
   "source": [
    "ka.IDN"
   ]
  },
  {
   "cell_type": "markdown",
   "id": "fa729880",
   "metadata": {},
   "source": [
    "### Switch to the specified memory slot"
   ]
  },
  {
   "cell_type": "code",
   "execution_count": 17,
   "id": "bf8ff908",
   "metadata": {},
   "outputs": [
    {
     "name": "stdout",
     "output_type": "stream",
     "text": [
      "Settings stored in M3 was loaded\n"
     ]
    }
   ],
   "source": [
    "ka.RCL = 3"
   ]
  },
  {
   "cell_type": "code",
   "execution_count": 18,
   "id": "5ce5d484",
   "metadata": {},
   "outputs": [
    {
     "data": {
      "text/plain": [
       "(3.0, 3.0)"
      ]
     },
     "execution_count": 18,
     "metadata": {},
     "output_type": "execute_result"
    }
   ],
   "source": [
    "ka.dV, ka.dI"
   ]
  },
  {
   "cell_type": "markdown",
   "id": "815fa731",
   "metadata": {},
   "source": [
    "### Change and Save it the memory slot"
   ]
  },
  {
   "cell_type": "code",
   "execution_count": 19,
   "id": "820ccc0a",
   "metadata": {},
   "outputs": [
    {
     "name": "stdout",
     "output_type": "stream",
     "text": [
      "Desired voltage was set to be 4.00V\n",
      "Desired current was set to be 4.000A\n"
     ]
    }
   ],
   "source": [
    "ka.dV, ka.dI = 4, 4"
   ]
  },
  {
   "cell_type": "code",
   "execution_count": 20,
   "id": "d1e06e8e",
   "metadata": {},
   "outputs": [
    {
     "name": "stdout",
     "output_type": "stream",
     "text": [
      "Current settings was stored in M3\n"
     ]
    }
   ],
   "source": [
    "ka.SAV = 3"
   ]
  },
  {
   "cell_type": "code",
   "execution_count": 21,
   "id": "92ace803",
   "metadata": {},
   "outputs": [
    {
     "name": "stdout",
     "output_type": "stream",
     "text": [
      "Settings stored in M1 was loaded\n",
      "Settings stored in M3 was loaded\n"
     ]
    }
   ],
   "source": [
    "ka.RCL = 1\n",
    "time.sleep(3)\n",
    "ka.RCL = 3"
   ]
  },
  {
   "cell_type": "code",
   "execution_count": 22,
   "id": "30667a22",
   "metadata": {},
   "outputs": [
    {
     "data": {
      "text/plain": [
       "(4.0, 4.0)"
      ]
     },
     "execution_count": 22,
     "metadata": {},
     "output_type": "execute_result"
    }
   ],
   "source": [
    "ka.dV, ka.dI"
   ]
  },
  {
   "cell_type": "markdown",
   "id": "8c6450c9",
   "metadata": {},
   "source": [
    "### Enable Ovecurrent an Overvoltage Protection"
   ]
  },
  {
   "cell_type": "code",
   "execution_count": null,
   "id": "d4dfd05e",
   "metadata": {},
   "outputs": [],
   "source": [
    "ka.OCP, ka.OVP = 'ON', 'ON'"
   ]
  },
  {
   "cell_type": "markdown",
   "id": "a9b9bd4b",
   "metadata": {},
   "source": [
    "### Lock the control Panel"
   ]
  },
  {
   "cell_type": "code",
   "execution_count": 24,
   "id": "5dada1f0",
   "metadata": {},
   "outputs": [],
   "source": [
    "ka.LOCK = 'ON'"
   ]
  }
 ],
 "metadata": {
  "kernelspec": {
   "display_name": "Python 3 (ipykernel)",
   "language": "python",
   "name": "python3"
  },
  "language_info": {
   "codemirror_mode": {
    "name": "ipython",
    "version": 3
   },
   "file_extension": ".py",
   "mimetype": "text/x-python",
   "name": "python",
   "nbconvert_exporter": "python",
   "pygments_lexer": "ipython3",
   "version": "3.10.12"
  }
 },
 "nbformat": 4,
 "nbformat_minor": 5
}
